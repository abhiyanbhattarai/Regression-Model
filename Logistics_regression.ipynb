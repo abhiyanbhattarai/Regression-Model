{
 "cells": [
  {
   "cell_type": "code",
   "execution_count": 9,
   "id": "4e9edcf0",
   "metadata": {},
   "outputs": [
    {
     "data": {
      "image/png": "[encoded data removed]",
      "text/plain": [
       "<Figure size 432x288 with 1 Axes>"
      ]
     },
     "metadata": {
      "needs_background": "light"
     },
     "output_type": "display_data"
    },
    {
     "data": {
      "image/png": "[encoded data removed]",
      "text/plain": [
       "<Figure size 432x288 with 1 Axes>"
      ]
     },
     "metadata": {
      "needs_background": "light"
     },
     "output_type": "display_data"
    }
   ],
   "source": [
    "#importing libraries\n",
    "import pandas as pd\n",
    "import numpy as np\n",
    "import matplotlib.pyplot as plt\n",
    "import seaborn as sns\n",
    "\n",
    "#reading data from excel\n",
    "df1= pd.read_excel('assig#3.xlsx')\n",
    "\n",
    "#Coverting categorical data to binary form \n",
    "df2=pd.get_dummies(df1['Premiums'])\n",
    "df = pd.concat((df2, df1), axis=1)\n",
    "df = df.drop([\"Premiums\"], axis=1)\n",
    "df = df.drop([\"Low\"], axis=1)\n",
    "result = df.rename(columns={\"High\": \"Premiums\"})\n",
    "y=result['Premiums']\n",
    "x1=result['P(smoker)']\n",
    "x2=result['P(exercise)']\n",
    "#Plotting the data \n",
    "plt.grid()\n",
    "plt.scatter(x1,y)\n",
    "plt.title(\"Premiums vs P(smoker)\")\n",
    "plt.ylabel(\"Premiums\")\n",
    "plt.xlabel(\"P(smoker)\")\n",
    "plt.show()\n",
    "plt.grid()\n",
    "plt.scatter(x2,y,c='red')\n",
    "plt.title(\"Premiums vs P(exercise)\")\n",
    "plt.ylabel(\"Premiums\")\n",
    "plt.xlabel(\"P(exercise)\")\n",
    "plt.show()"
   ]
  },
  {
   "cell_type": "code",
   "execution_count": 10,
   "id": "d97c8e7f",
   "metadata": {},
   "outputs": [],
   "source": [
    "#logistic reression funtion\n",
    "def logistic_Regression(X,Y,lr,itr):\n",
    "    m=0\n",
    "    b=0\n",
    "    for i in range(itr):\n",
    "        y_hat=sigmoid(X,m,b)\n",
    "        #Gradient descent\n",
    "        delJ_m=-2*sum((Y-y_hat)*y_hat*(1-y_hat)*X)\n",
    "        delJ_b=-2*sum((Y-y_hat)*y_hat*(1-y_hat))\n",
    "        #updating the m & b values\n",
    "        m=m-lr*delJ_m\n",
    "        b=b-lr*delJ_b\n",
    "    return m,b\n",
    "    \n",
    "#sigmoid function\n",
    "def sigmoid(X,m,b):\n",
    "    for x in X:\n",
    "        return 1/(1+np.exp((-1*m*X)-(1*b)))\n",
    "\n",
    "#Confusion Matrix\n",
    "def confusionMatrix(yPred,y):\n",
    "    matrix=np.matrix([[0,0],[0,0]])\n",
    "    for i in range(len(yPred)):\n",
    "        #True Positives\n",
    "        if int(yPred[i])==1 and int(y[i])==1: \n",
    "            matrix[0,0]+=1 \n",
    "        \n",
    "        #False Positives\n",
    "        elif int(yPred[i])==0 and int(y[i])==1:\n",
    "            matrix[0,1]+=1 \n",
    "            \n",
    "        #False Negatives\n",
    "        elif int(yPred[i])==1 and int(y[i])==0:\n",
    "            matrix[1,0]+=1 \n",
    "            \n",
    "        #True Negatives\n",
    "        elif int(yPred[i])==0 and int(y[i])==0:\n",
    "            matrix[1,1]+=1 \n",
    "\n",
    "    TP = matrix[0,0]\n",
    "    FP = matrix[0,1]\n",
    "    FN = matrix[1,0]\n",
    "    TN = matrix[1,1]\n",
    "    Total=len(y)\n",
    "    \n",
    "    print(\"Confusion Matrix:\\n\",matrix)\n",
    "    \n",
    "    \n",
    "    accuracy=(TP+TN)/Total\n",
    "    print(\"\\nAccuracy:\",accuracy)\n",
    "    \n",
    "    misclassification=(FP+FN)/Total\n",
    "    print(\"\\nMisclassification:\",misclassification)\n",
    "    \n",
    "    prevalence=(TP+FN)/Total\n",
    "    print(\"\\nPrevalence:\",prevalence)\n",
    "    \n",
    "    precision=TP/(TP+FP)\n",
    "    print(\"\\nPrecision:\",precision)\n",
    "    \n",
    "    recall=TP/(TP+FN)\n",
    "    print(\"\\nRecall:\",recall)\n",
    "    \n",
    "    null_error_rate=(TN+FP)/Total\n",
    "    print(\"\\nNull Error Rate:\",null_error_rate)\n",
    "\n",
    "    f1=2*(precision*recall)/(precision+recall)\n",
    "    print(\"\\nF1 score:\",f1)\n",
    "    \n",
    "    balance_accuracy=(TP+TN)/2\n",
    "    print(\"\\nBalance Accuracy:\",balance_accuracy)\n",
    "    \n",
    "    roc=((FP/(TN+FP)),(TP/(TP+FN)))\n",
    "    print(\"\\nROC:\",roc)\n",
    "    \n",
    "\n",
    "    ax = sns.heatmap(matrix, annot=True, cmap='Blues',fmt='g')\n",
    "    ax.set_title('Confusion Matrix\\n')\n",
    "    ax.set_xlabel('\\nActual Values')\n",
    "    ax.set_ylabel('Predicted Values ')\n",
    "\n",
    "## Ticket labels - List must be in alphabetical order\n",
    "    ax.xaxis.set_ticklabels(['False','True'])\n",
    "    ax.yaxis.set_ticklabels(['True','False'])\n",
    "\n",
    "## Display the visualization of the Confusion Matrix.\n",
    "    plt.show()"
   ]
  },
  {
   "cell_type": "code",
   "execution_count": 11,
   "id": "850943bc",
   "metadata": {},
   "outputs": [
    {
     "name": "stdout",
     "output_type": "stream",
     "text": [
      "Confusion Matrix:\n",
      " [[164   0]\n",
      " [  0 162]]\n",
      "\n",
      "Accuracy: 1.0\n",
      "\n",
      "Misclassification: 0.0\n",
      "\n",
      "Prevalence: 0.5030674846625767\n",
      "\n",
      "Precision: 1.0\n",
      "\n",
      "Recall: 1.0\n",
      "\n",
      "Null Error Rate: 0.49693251533742333\n",
      "\n",
      "F1 score: 1.0\n",
      "\n",
      "Balance Accuracy: 163.0\n",
      "\n",
      "ROC: (0.0, 1.0)\n"
     ]
    },
    {
     "data": {
      "image/png": "[encoded data removed]",
      "text/plain": [
       "<Figure size 432x288 with 2 Axes>"
      ]
     },
     "metadata": {
      "needs_background": "light"
     },
     "output_type": "display_data"
    },
    {
     "name": "stdout",
     "output_type": "stream",
     "text": [
      "Slope: -11.39652556849343\n",
      "Intercept: 5.602360996874172\n"
     ]
    },
    {
     "data": {
      "image/png": "[encoded data removed]",
      "text/plain": [
       "<Figure size 432x288 with 1 Axes>"
      ]
     },
     "metadata": {
      "needs_background": "light"
     },
     "output_type": "display_data"
    }
   ],
   "source": [
    "#Using logistic regression for p(smoker)\n",
    "m1,b1=logistic_Regression(x1,y,0.01,1000)\n",
    "y_hat1=sigmoid(x1,m1,b1)\n",
    "y_p1=[]\n",
    "for i in y_hat1:\n",
    "    if i >= 0.5:\n",
    "        y_hat1=1\n",
    "    else: \n",
    "        y_hat1=0\n",
    "    y_p1=np.append(y_p1,y_hat1)\n",
    "    \n",
    "confusion_matrix1=confusionMatrix(y_p1,y)\n",
    "plt.grid()\n",
    "plt.scatter(x1,y_p1)\n",
    "plt.title(\"Premiums vs P(smoker)\")\n",
    "plt.ylabel(\"Premiums\")\n",
    "plt.xlabel(\"P(smoker)\")\n",
    "print(\"Slope: \" +str(m1)+\"\\nIntercept: \" +str(b1))\n"
   ]
  },
  {
   "cell_type": "code",
   "execution_count": 12,
   "id": "b1396224",
   "metadata": {},
   "outputs": [
    {
     "name": "stdout",
     "output_type": "stream",
     "text": [
      "Confusion Matrix:\n",
      " [[164   0]\n",
      " [  2 160]]\n",
      "\n",
      "Accuracy: 0.9938650306748467\n",
      "\n",
      "Misclassification: 0.006134969325153374\n",
      "\n",
      "Prevalence: 0.50920245398773\n",
      "\n",
      "Precision: 1.0\n",
      "\n",
      "Recall: 0.9879518072289156\n",
      "\n",
      "Null Error Rate: 0.49079754601226994\n",
      "\n",
      "F1 score: 0.993939393939394\n",
      "\n",
      "Balance Accuracy: 162.0\n",
      "\n",
      "ROC: (0.0, 0.9879518072289156)\n"
     ]
    },
    {
     "data": {
      "image/png": "[encoded data removed]",
      "text/plain": [
       "<Figure size 432x288 with 2 Axes>"
      ]
     },
     "metadata": {
      "needs_background": "light"
     },
     "output_type": "display_data"
    },
    {
     "name": "stdout",
     "output_type": "stream",
     "text": [
      "7.230019592503717 -2.1217447040790085\n"
     ]
    },
    {
     "data": {
      "image/png": "[encoded data removed]",
      "text/plain": [
       "<Figure size 432x288 with 1 Axes>"
      ]
     },
     "metadata": {
      "needs_background": "light"
     },
     "output_type": "display_data"
    }
   ],
   "source": [
    "# Using Logistic Regression for P(exercise)\n",
    "m2,b2=logistic_Regression(x2,y,0.001,1000)\n",
    "y_hat2=sigmoid(x2,m2,b2)\n",
    "y_p2=[]\n",
    "for i in y_hat2:\n",
    "    if i >= 0.3:\n",
    "        y_hat2=1\n",
    "    else: \n",
    "        y_hat2=0\n",
    "    y_p2=np.append(y_p2,y_hat2)\n",
    "confusion_matrix2=confusionMatrix(y_p2,y)\n",
    "plt.grid()\n",
    "plt.scatter(x2,y_p2,c='red')\n",
    "plt.title(\"Premiums vs P(exercise)\")\n",
    "plt.ylabel(\"Premiums\")\n",
    "plt.xlabel(\"P(exercise)\")\n",
    "print(m2,b2)"
   ]
  },
  {
   "cell_type": "code",
   "execution_count": 13,
   "id": "d270ff9e",
   "metadata": {},
   "outputs": [],
   "source": [
    "#Reading test data & Converting to series\n",
    "x1_test=result.iloc[0:166,3:4].squeeze()\n",
    "x2_test=result.iloc[0:166,4:].squeeze()"
   ]
  },
  {
   "cell_type": "code",
   "execution_count": 14,
   "id": "909bae59",
   "metadata": {},
   "outputs": [
    {
     "name": "stdout",
     "output_type": "stream",
     "text": [
      "Accuracy 0.43373493975903615\n"
     ]
    },
    {
     "data": {
      "text/plain": [
       "Text(0, 0.5, 'Y-Prediciton')"
      ]
     },
     "execution_count": 14,
     "metadata": {},
     "output_type": "execute_result"
    },
    {
     "data": {
      "image/png": "[encoded data removed]",
      "text/plain": [
       "<Figure size 432x288 with 1 Axes>"
      ]
     },
     "metadata": {
      "needs_background": "light"
     },
     "output_type": "display_data"
    }
   ],
   "source": [
    "y_test_hat1=sigmoid(x1_test,m1,b1)\n",
    "y_test_p1=[]\n",
    "for i in y_test_hat1: \n",
    "    if i >= 0.6 :\n",
    "        y_test_hat1=1\n",
    "    else: \n",
    "        y_test_hat1=0\n",
    "    \n",
    "    y_test_p1=np.append(y_test_p1,y_test_hat1)\n",
    "\n",
    "    #Accuracy check\n",
    "correct1=0\n",
    "for i in range(len(y_test_p1)):\n",
    "    if y_test_p1[i]==y[i]:\n",
    "        correct1 += 1\n",
    "accuracy=correct1/len(y_test_p1)\n",
    "print(\"Accuracy\",accuracy)\n",
    "    \n",
    "plt.scatter(x1_test,y_test_p1)\n",
    "plt.xlabel('Test(P_smoker)')\n",
    "plt.ylabel('Y-Prediciton')"
   ]
  },
  {
   "cell_type": "code",
   "execution_count": 15,
   "id": "3ed7100e",
   "metadata": {},
   "outputs": [
    {
     "name": "stdout",
     "output_type": "stream",
     "text": [
      "Accuracy 0.608433734939759\n"
     ]
    },
    {
     "data": {
      "image/png": "[encoded data removed]",
      "text/plain": [
       "<Figure size 432x288 with 1 Axes>"
      ]
     },
     "metadata": {
      "needs_background": "light"
     },
     "output_type": "display_data"
    }
   ],
   "source": [
    "y_test_hat2=sigmoid(x2_test,m2,b2)\n",
    "y_test_p2=[]\n",
    "for i in y_test_hat2: \n",
    "    if i >= 0.45 :\n",
    "        y_test_hat2=1\n",
    "    else: \n",
    "        y_test_hat2=0\n",
    "    \n",
    "    y_test_p2=np.append(y_test_p2,y_test_hat2)\n",
    "\n",
    "#Accuracy check\n",
    "correct2=0\n",
    "for i in range(len(y_test_p2)):\n",
    "    if y_test_p2[i]==y[i]:\n",
    "        correct2 += 1\n",
    "accuracy2=correct2/len(y_test_p2)\n",
    "print(\"Accuracy\",accuracy2)\n",
    "    \n",
    "plt.scatter(x2_test,y_test_p2,c='red')\n",
    "plt.xlabel('Test(P_Exercise)')\n",
    "plt.ylabel('Premiums')\n",
    "plt.show()\n"
   ]
  },
  {
   "cell_type": "code",
   "execution_count": null,
   "id": "4811cb68",
   "metadata": {},
   "outputs": [],
   "source": []
  },
  {
   "cell_type": "code",
   "execution_count": null,
   "id": "cbb0fca7",
   "metadata": {},
   "outputs": [],
   "source": []
  },
  {
   "cell_type": "code",
   "execution_count": null,
   "id": "ea95afe1",
   "metadata": {},
   "outputs": [],
   "source": []
  }
 ],
 "metadata": {
  "kernelspec": {
   "display_name": "Python 3 (ipykernel)",
   "language": "python",
   "name": "python3"
  },
  "language_info": {
   "codemirror_mode": {
    "name": "ipython",
    "version": 3
   },
   "file_extension": ".py",
   "mimetype": "text/x-python",
   "name": "python",
   "nbconvert_exporter": "python",
   "pygments_lexer": "ipython3",
   "version": "3.9.12"
  }
 },
 "nbformat": 4,
 "nbformat_minor": 5
}
